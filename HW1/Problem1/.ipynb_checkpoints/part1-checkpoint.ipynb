{
 "cells": [
  {
   "cell_type": "code",
   "execution_count": 73,
   "metadata": {},
   "outputs": [],
   "source": [
    "import pandas as pd\n",
    "import numpy as np\n",
    "from math import sqrt\n",
    "import matplotlib.pyplot as plt\n",
    "from sklearn.naive_bayes import  BernoulliNB, GaussianNB\n",
    "from sklearn.linear_model import LogisticRegression\n",
    "from sklearn.model_selection import train_test_split\n",
    "from sklearn.preprocessing import OrdinalEncoder, StandardScaler, MinMaxScaler\n",
    "from sklearn.neighbors import KNeighborsClassifier\n",
    "from sklearn.metrics import confusion_matrix, plot_confusion_matrix, plot_roc_curve\n",
    "from sklearn.pipeline import make_pipeline, Pipeline\n",
    "pd.set_option('display.max_columns', None)"
   ]
  },
  {
   "cell_type": "code",
   "execution_count": 23,
   "metadata": {},
   "outputs": [],
   "source": [
    "def read_data(file_name: str, omit_na=True) -> tuple:\n",
    "    df = pd.read_csv(file_name, header=0)\n",
    "    if omit_na:\n",
    "        df = df.dropna()\n",
    "\n",
    "    df = df.replace({\"Yes\": 1, \"No\": 0})\n",
    "    \n",
    "    # убираем фичу \"дата\", тк она принимает гораздо больше значений,\n",
    "    # чем остальные \n",
    "    df.pop(\"Date\")\n",
    "    \n",
    "    categorical_columns = [\"Location\", \"WindGustDir\", \"WindDir9am\", \"WindDir3pm\"]\n",
    "    ord_enc = OrdinalEncoder()\n",
    "    df[categorical_columns] = ord_enc.fit_transform(df[categorical_columns])\n",
    "    \n",
    "    X = np.array(df.loc[:, df.columns != \"RainTomorrow\"])\n",
    "    y = np.array(df[\"RainTomorrow\"])\n",
    "    \n",
    "    return X, y, df"
   ]
  },
  {
   "cell_type": "code",
   "execution_count": 75,
   "metadata": {},
   "outputs": [],
   "source": [
    "def get_cm_params(cm: np.ndarray) -> dict:\n",
    "    res =  {\"TN\": cm[0, 0],\n",
    "            \"TP\": cm[1, 1],\n",
    "            \"FP\": cm[0, 1],\n",
    "            \"FN\": cm[1, 0]}\n",
    "    res[\"precision\"] = res[\"TP\"] / (res[\"TP\"] + res[\"FP\"])\n",
    "    res[\"recall\"] = res[\"TP\"] / (res[\"TP\"] + res[\"FN\"])\n",
    "    res[\"f1_score\"] = 2 * (res[\"precision\"] * res[\"recall\"]) / (res[\"precision\"] + res[\"recall\"])\n",
    "    res[\"matthews\"] = (res[\"TP\"] * res[\"TN\"] - res[\"FP\"] * res[\"FN\"]) / \\\n",
    "                       sqrt((res[\"TP\"] + res[\"FP\"])*(res[\"TP\"] + res[\"FN\"])*(res[\"TN\"] + res[\"FP\"])*(res[\"TN\"] + res[\"FN\"]))\n",
    "    return res"
   ]
  },
  {
   "cell_type": "code",
   "execution_count": 9,
   "metadata": {},
   "outputs": [],
   "source": [
    "X, y, df = read_data(\"weatherAUS.csv\", omit_na=True)"
   ]
  },
  {
   "cell_type": "code",
   "execution_count": 10,
   "metadata": {},
   "outputs": [],
   "source": [
    "X_train, X_test, y_train, y_test = train_test_split(X, y, test_size=0.25, shuffle=False)"
   ]
  },
  {
   "cell_type": "markdown",
   "metadata": {},
   "source": [
    "## Naive bayes"
   ]
  },
  {
   "cell_type": "markdown",
   "metadata": {},
   "source": [
    "Сравним между собой Бернулли и Гаусовский наивные Байесы, предварительно отмасштабировав признаки:"
   ]
  },
  {
   "cell_type": "code",
   "execution_count": 77,
   "metadata": {},
   "outputs": [
    {
     "data": {
      "text/plain": [
       "0.8494151010280042"
      ]
     },
     "execution_count": 77,
     "metadata": {},
     "output_type": "execute_result"
    }
   ],
   "source": [
    "pipe = make_pipeline(StandardScaler(), BernoulliNB())\n",
    "pipe.fit(X_train, y_train)\n",
    "Pipeline(steps=[('standardscaler', StandardScaler()),\n",
    "                ('BernoulliNB', BernoulliNB())])\n",
    "\n",
    "pipe.score(X_test, y_test) "
   ]
  },
  {
   "cell_type": "markdown",
   "metadata": {},
   "source": [
    "Построим confusion_matrix:"
   ]
  },
  {
   "cell_type": "code",
   "execution_count": 78,
   "metadata": {},
   "outputs": [],
   "source": [
    "cm = confusion_matrix(y_test, pipe.predict(X_test))"
   ]
  },
  {
   "cell_type": "code",
   "execution_count": 79,
   "metadata": {},
   "outputs": [
    {
     "data": {
      "text/plain": [
       "{'TN': 10261,\n",
       " 'TP': 1720,\n",
       " 'FP': 1166,\n",
       " 'FN': 958,\n",
       " 'precision': 0.5959805959805959,\n",
       " 'recall': 0.6422703510082151,\n",
       " 'f1_score': 0.6182602444284687,\n",
       " 'matthews': 0.5252014567611871}"
      ]
     },
     "execution_count": 79,
     "metadata": {},
     "output_type": "execute_result"
    }
   ],
   "source": [
    "cm = get_cm_params(cm)\n",
    "cm"
   ]
  },
  {
   "cell_type": "code",
   "execution_count": 80,
   "metadata": {},
   "outputs": [
    {
     "data": {
      "image/png": "[encoded data removed]",
      "text/plain": [
       "<Figure size 432x288 with 2 Axes>"
      ]
     },
     "metadata": {
      "needs_background": "light"
     },
     "output_type": "display_data"
    }
   ],
   "source": [
    "plot_confusion_matrix(pipe, X_test, y_test)\n",
    "plt.show()"
   ]
  },
  {
   "cell_type": "code",
   "execution_count": 82,
   "metadata": {},
   "outputs": [
    {
     "data": {
      "image/png": "[encoded data removed]",
      "text/plain": [
       "<Figure size 432x288 with 1 Axes>"
      ]
     },
     "metadata": {
      "needs_background": "light"
     },
     "output_type": "display_data"
    }
   ],
   "source": [
    "plot_roc_curve(pipe, X_test, y_test)\n",
    "plt.show()"
   ]
  },
  {
   "cell_type": "markdown",
   "metadata": {},
   "source": [
    "Гауссовский наивный Байес не так чувствителен к неотмасштабированным признакам, на его результат StandardScaler не поdлиял:"
   ]
  },
  {
   "cell_type": "code",
   "execution_count": 94,
   "metadata": {},
   "outputs": [
    {
     "data": {
      "text/plain": [
       "0.8571428571428571"
      ]
     },
     "execution_count": 94,
     "metadata": {},
     "output_type": "execute_result"
    }
   ],
   "source": [
    "pipe = make_pipeline(StandardScaler(), GaussianNB())\n",
    "pipe.fit(X_train, y_train)\n",
    "Pipeline(steps=[('standardscaler', StandardScaler()),\n",
    "                ('GaussianNB', GaussianNB())])\n",
    "\n",
    "pipe.score(X_test, y_test) "
   ]
  },
  {
   "cell_type": "code",
   "execution_count": 95,
   "metadata": {},
   "outputs": [],
   "source": [
    "matr = confusion_matrix(y_test, pipe.predict(X_test))"
   ]
  },
  {
   "cell_type": "code",
   "execution_count": 96,
   "metadata": {},
   "outputs": [
    {
     "data": {
      "text/plain": [
       "{'TN': 10384,\n",
       " 'TP': 1706,\n",
       " 'FP': 1043,\n",
       " 'FN': 972,\n",
       " 'precision': 0.6205893052018916,\n",
       " 'recall': 0.637042569081404,\n",
       " 'f1_score': 0.6287083103003501,\n",
       " 'matthews': 0.5403548120154954}"
      ]
     },
     "execution_count": 96,
     "metadata": {},
     "output_type": "execute_result"
    }
   ],
   "source": [
    "cm = get_cm_params(matr)\n",
    "cm"
   ]
  },
  {
   "cell_type": "code",
   "execution_count": 86,
   "metadata": {
    "scrolled": true
   },
   "outputs": [
    {
     "data": {
      "image/png": "[encoded data removed]",
      "text/plain": [
       "<Figure size 432x288 with 2 Axes>"
      ]
     },
     "metadata": {
      "needs_background": "light"
     },
     "output_type": "display_data"
    }
   ],
   "source": [
    "plot_confusion_matrix(pipe, X_test, y_test)\n",
    "plt.show()"
   ]
  },
  {
   "cell_type": "code",
   "execution_count": 88,
   "metadata": {
    "scrolled": true
   },
   "outputs": [
    {
     "data": {
      "image/png": "[encoded data removed]",
      "text/plain": [
       "<Figure size 432x288 with 1 Axes>"
      ]
     },
     "metadata": {
      "needs_background": "light"
     },
     "output_type": "display_data"
    }
   ],
   "source": [
    "plot_roc_curve(pipe, X_test, y_test)\n",
    "plt.show()"
   ]
  },
  {
   "cell_type": "markdown",
   "metadata": {},
   "source": [
    "Гауссовский Байес решает задачу немного лучше, судя по **score**, а также по коэффициенту корреляции Мэтьюса.\n",
    "\n",
    "Проводить оценку по precision, recall нет смысла, тк классы сильно смещены"
   ]
  },
  {
   "cell_type": "markdown",
   "metadata": {},
   "source": [
    "## KNN"
   ]
  },
  {
   "cell_type": "code",
   "execution_count": 63,
   "metadata": {},
   "outputs": [
    {
     "name": "stdout",
     "output_type": "stream",
     "text": [
      "Wall time: 2min 16s\n"
     ]
    }
   ],
   "source": [
    "%%time\n",
    "\n",
    "# подберем гиперпараметр n_neighbors\n",
    "n_nb = range(1, 20)\n",
    "res = []\n",
    "\n",
    "for i in n_nb: \n",
    "    neigh = KNeighborsClassifier(n_neighbors=i)\n",
    "    neigh.fit(X_train, y_train)\n",
    "\n",
    "    prediction = neigh.predict(X_test)\n",
    "\n",
    "    res.append((np.mean(prediction == y_test)))"
   ]
  },
  {
   "cell_type": "code",
   "execution_count": 65,
   "metadata": {},
   "outputs": [
    {
     "data": {
      "image/png": "[encoded data removed]",
      "text/plain": [
       "<Figure size 432x288 with 1 Axes>"
      ]
     },
     "metadata": {
      "needs_background": "light"
     },
     "output_type": "display_data"
    }
   ],
   "source": [
    "plt.plot(n_nb, res)\n",
    "plt.xlabel(\"n_neighbors\")\n",
    "plt.ylabel(\"score\")\n",
    "plt.title(\"Точность в зависимости от n_neighbors\")\n",
    "plt.show()"
   ]
  },
  {
   "cell_type": "code",
   "execution_count": 66,
   "metadata": {},
   "outputs": [
    {
     "name": "stdout",
     "output_type": "stream",
     "text": [
      "0.867210209145693\n"
     ]
    }
   ],
   "source": [
    "print(max(res))"
   ]
  },
  {
   "cell_type": "code",
   "execution_count": 89,
   "metadata": {},
   "outputs": [
    {
     "name": "stdout",
     "output_type": "stream",
     "text": [
      "0.8660049627791563\n",
      "Wall time: 13.8 s\n"
     ]
    }
   ],
   "source": [
    "%%time\n",
    "\n",
    "neigh = KNeighborsClassifier(n_neighbors=11)\n",
    "neigh.fit(X_train, y_train)\n",
    "prediction = neigh.predict(X_test)\n",
    "\n",
    "print (neigh.score(X_test, y_test))"
   ]
  },
  {
   "cell_type": "code",
   "execution_count": 97,
   "metadata": {},
   "outputs": [
    {
     "data": {
      "text/plain": [
       "array([[10945,   482],\n",
       "       [ 1408,  1270]], dtype=int64)"
      ]
     },
     "execution_count": 97,
     "metadata": {},
     "output_type": "execute_result"
    }
   ],
   "source": [
    "matr = confusion_matrix(y_test, prediction)\n",
    "matr"
   ]
  },
  {
   "cell_type": "code",
   "execution_count": 98,
   "metadata": {},
   "outputs": [
    {
     "data": {
      "text/plain": [
       "{'TN': 10945,\n",
       " 'TP': 1270,\n",
       " 'FP': 482,\n",
       " 'FN': 1408,\n",
       " 'precision': 0.7248858447488584,\n",
       " 'recall': 0.47423450336071693,\n",
       " 'f1_score': 0.5733634311512416,\n",
       " 'matthews': 0.5137547622527758}"
      ]
     },
     "execution_count": 98,
     "metadata": {},
     "output_type": "execute_result"
    }
   ],
   "source": [
    "cm = get_cm_params(matr)\n",
    "cm"
   ]
  },
  {
   "cell_type": "code",
   "execution_count": 99,
   "metadata": {},
   "outputs": [
    {
     "data": {
      "image/png": "[encoded data removed]",
      "text/plain": [
       "<Figure size 432x288 with 2 Axes>"
      ]
     },
     "metadata": {
      "needs_background": "light"
     },
     "output_type": "display_data"
    }
   ],
   "source": [
    "plot_confusion_matrix(pipe, X_test, y_test)\n",
    "plt.show()"
   ]
  },
  {
   "cell_type": "code",
   "execution_count": 103,
   "metadata": {},
   "outputs": [
    {
     "data": {
      "image/png": "[encoded data removed]",
      "text/plain": [
       "<Figure size 432x288 with 1 Axes>"
      ]
     },
     "metadata": {
      "needs_background": "light"
     },
     "output_type": "display_data"
    }
   ],
   "source": [
    "plot_roc_curve(neigh, X_test, y_test)\n",
    "plt.show()"
   ]
  },
  {
   "cell_type": "markdown",
   "metadata": {},
   "source": [
    "Несмотря на больший score, за счет того что KNN предсказал больше true positive величин, precision и recall оказались более смещенными, чем в моделях наивного Байеса. Это учлось в f1_score (среднее гармоническое между precision и recall) и в коэффициенте корреляции Мэтьюса."
   ]
  },
  {
   "cell_type": "markdown",
   "metadata": {},
   "source": [
    "## Logistic regression"
   ]
  },
  {
   "cell_type": "markdown",
   "metadata": {},
   "source": [
    "Здесь использовал масштабирование признаков - это дало чуть лучший результат:"
   ]
  },
  {
   "cell_type": "code",
   "execution_count": 108,
   "metadata": {},
   "outputs": [
    {
     "data": {
      "text/plain": [
       "0.8764976958525346"
      ]
     },
     "execution_count": 108,
     "metadata": {},
     "output_type": "execute_result"
    }
   ],
   "source": [
    "pipe = make_pipeline(StandardScaler(), LogisticRegression())\n",
    "pipe.fit(X_train, y_train)\n",
    "Pipeline(steps=[('standardscaler', StandardScaler()),\n",
    "                ('logisticregression', LogisticRegression())])\n",
    "\n",
    "pipe.score(X_test, y_test) "
   ]
  },
  {
   "cell_type": "code",
   "execution_count": 101,
   "metadata": {},
   "outputs": [
    {
     "data": {
      "text/plain": [
       "array([[10935,   492],\n",
       "       [ 1250,  1428]], dtype=int64)"
      ]
     },
     "execution_count": 101,
     "metadata": {},
     "output_type": "execute_result"
    }
   ],
   "source": [
    "matr = confusion_matrix(y_test, pipe.predict(X_test))\n",
    "matr"
   ]
  },
  {
   "cell_type": "code",
   "execution_count": 102,
   "metadata": {},
   "outputs": [
    {
     "data": {
      "text/plain": [
       "{'TN': 10935,\n",
       " 'TP': 1428,\n",
       " 'FP': 492,\n",
       " 'FN': 1250,\n",
       " 'precision': 0.74375,\n",
       " 'recall': 0.5332337565347274,\n",
       " 'f1_score': 0.6211396259243149,\n",
       " 'matthews': 0.5606110960692284}"
      ]
     },
     "execution_count": 102,
     "metadata": {},
     "output_type": "execute_result"
    }
   ],
   "source": [
    "cm = get_cm_params(matr)\n",
    "cm"
   ]
  },
  {
   "cell_type": "code",
   "execution_count": 320,
   "metadata": {},
   "outputs": [
    {
     "data": {
      "image/png": "[encoded data removed]",
      "text/plain": [
       "<Figure size 432x288 with 2 Axes>"
      ]
     },
     "metadata": {
      "needs_background": "light"
     },
     "output_type": "display_data"
    }
   ],
   "source": [
    "plot_confusion_matrix(pipe, X_test, y_test)\n",
    "plt.show()"
   ]
  },
  {
   "cell_type": "code",
   "execution_count": 321,
   "metadata": {},
   "outputs": [
    {
     "data": {
      "image/png": "[encoded data removed]",
      "text/plain": [
       "<Figure size 432x288 with 1 Axes>"
      ]
     },
     "metadata": {
      "needs_background": "light"
     },
     "output_type": "display_data"
    }
   ],
   "source": [
    "plot_roc_curve(pipe, X_test, y_test)\n",
    "plt.show()"
   ]
  },
  {
   "cell_type": "markdown",
   "metadata": {},
   "source": [
    "## Выводы"
   ]
  },
  {
   "cell_type": "markdown",
   "metadata": {},
   "source": [
    "- Логистическая регрессия оказалась лучше по набранному скору (скор считался как часть правильно угаданных моделью значений целевой переменной)\n",
    "- По метрикам confusion matrix получены следующие выводы:\n",
    " - Гауссовский наивный Байес лучше Бернулли по коэффициенту корреляции Мэтьюса (который хорошо подходит в нашем кейсе, тк класс true negative забрал на себя наибольшее количество)\n",
    " - В KNN модели precision и recall различаются друг от друга, что отразилось на f1_score и коэффициенте корреляции Мэтьюса, несмотря на больший скор, чем у наивного Байеса, эта модель хуже по метрикам confusion matrix\n",
    " - Логистическая регрессия оказалась лучше всех остальных моделей и по метрикам confusion matrix\n",
    "- По ROC AUC модели наивного Байеса и логистической регрессии находятся примерно на одном уровне"
   ]
  },
  {
   "cell_type": "code",
   "execution_count": null,
   "metadata": {},
   "outputs": [],
   "source": []
  }
 ],
 "metadata": {
  "kernelspec": {
   "display_name": "Python 3",
   "language": "python",
   "name": "python3"
  },
  "language_info": {
   "codemirror_mode": {
    "name": "ipython",
    "version": 3
   },
   "file_extension": ".py",
   "mimetype": "text/x-python",
   "name": "python",
   "nbconvert_exporter": "python",
   "pygments_lexer": "ipython3",
   "version": "3.8.5"
  }
 },
 "nbformat": 4,
 "nbformat_minor": 4
}
